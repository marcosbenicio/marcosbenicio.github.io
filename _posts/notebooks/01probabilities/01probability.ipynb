{
 "cells": [
  {
   "cell_type": "code",
   "execution_count": 1,
   "metadata": {},
   "outputs": [],
   "source": [
    "import numpy as np\n",
    "import pandas as pd\n",
    "import matplotlib.pyplot as plt"
   ]
  },
  {
   "cell_type": "markdown",
   "metadata": {},
   "source": [
    "Here, I explain the basics of probabilities and Bayes' rule, aiming to provide an intuitive understanding of probabilities through the concept of set theory. Each section includes an example to illustrate practical comprehension of probabilities.\n",
    "\n",
    "# **Outline** \n",
    "\n",
    "- [Ordinary Probability](#ordinary-probability)\n",
    "- [Joint Probability](#joint-probability)\n",
    "- [Conditional Probability](#conditional-probability)\n",
    "- [Addition Law for Probability](#addition-law-for-probability)\n",
    "  - [Addition Law for Conditional Probability](#addition-law-for-conditional-probability)\n",
    "  - [Law of Total Probability](#law-of-total-probability)\n",
    "- [Bayes's Theorem](#bayess-theorem)\n",
    "  - [Interpretations of Bayes's Theorem](#interpretations-of-bayess-theorem)\n",
    "  - [Bayes's Applications](#bayess-applications)\n",
    "    - [Urn problem](#urn-problem)"
   ]
  },
  {
   "cell_type": "markdown",
   "metadata": {},
   "source": [
    "\n",
    "# **Data**\n",
    "\n",
    "The General Social Survey (GSS) is a sociological survey that has been collecting data on American society since 1974. The dataset contains responses from over 49,290 individuals and includes the following features:\n",
    "\n",
    "**Dataset Features**\n",
    "\n",
    "- `caseid`: Unique identifier for each respondent.\n",
    "- `year`: The year in which the respondent was surveyed.\n",
    "- `age`: The age of the respondent at the time of the survey.\n",
    "- `sex`: The sex of the respondent (male or female).\n",
    "- `polviews`: The respondent's political views, scaled from liberal to conservative.\n",
    "- `partyid`: The respondent's political party affiliation, categorized as Democratic, Republican, or Independent.\n",
    "- `indus10`: Industry code representing the respondent's field of work."
   ]
  },
  {
   "cell_type": "code",
   "execution_count": 2,
   "metadata": {},
   "outputs": [
    {
     "data": {
      "text/html": [
       "<div>\n",
       "<style scoped>\n",
       "    .dataframe tbody tr th:only-of-type {\n",
       "        vertical-align: middle;\n",
       "    }\n",
       "\n",
       "    .dataframe tbody tr th {\n",
       "        vertical-align: top;\n",
       "    }\n",
       "\n",
       "    .dataframe thead th {\n",
       "        text-align: right;\n",
       "    }\n",
       "</style>\n",
       "<table border=\"1\" class=\"dataframe\">\n",
       "  <thead>\n",
       "    <tr style=\"text-align: right;\">\n",
       "      <th></th>\n",
       "      <th>caseid</th>\n",
       "      <th>year</th>\n",
       "      <th>age</th>\n",
       "      <th>sex</th>\n",
       "      <th>polviews</th>\n",
       "      <th>partyid</th>\n",
       "      <th>indus10</th>\n",
       "    </tr>\n",
       "  </thead>\n",
       "  <tbody>\n",
       "    <tr>\n",
       "      <th>0</th>\n",
       "      <td>1</td>\n",
       "      <td>1974</td>\n",
       "      <td>21.0</td>\n",
       "      <td>1</td>\n",
       "      <td>4.0</td>\n",
       "      <td>2.0</td>\n",
       "      <td>4970.0</td>\n",
       "    </tr>\n",
       "    <tr>\n",
       "      <th>1</th>\n",
       "      <td>2</td>\n",
       "      <td>1974</td>\n",
       "      <td>41.0</td>\n",
       "      <td>1</td>\n",
       "      <td>5.0</td>\n",
       "      <td>0.0</td>\n",
       "      <td>9160.0</td>\n",
       "    </tr>\n",
       "    <tr>\n",
       "      <th>2</th>\n",
       "      <td>5</td>\n",
       "      <td>1974</td>\n",
       "      <td>58.0</td>\n",
       "      <td>2</td>\n",
       "      <td>6.0</td>\n",
       "      <td>1.0</td>\n",
       "      <td>2670.0</td>\n",
       "    </tr>\n",
       "  </tbody>\n",
       "</table>\n",
       "</div>"
      ],
      "text/plain": [
       "   caseid  year   age  sex  polviews  partyid  indus10\n",
       "0       1  1974  21.0    1       4.0      2.0   4970.0\n",
       "1       2  1974  41.0    1       5.0      0.0   9160.0\n",
       "2       5  1974  58.0    2       6.0      1.0   2670.0"
      ]
     },
     "execution_count": 2,
     "metadata": {},
     "output_type": "execute_result"
    }
   ],
   "source": [
    "# General Social Survey data\n",
    "gss = pd.read_csv('data/gss.csv')\n",
    "gss.head(3)"
   ]
  },
  {
   "cell_type": "markdown",
   "metadata": {},
   "source": [
    "# **Probabilities**"
   ]
  },
  {
   "cell_type": "markdown",
   "metadata": {},
   "source": [
    "## **Ordinary Probability**\n",
    "\n",
    "**Classical Probability**\n",
    "\n",
    "Consider the classic experiment of flipping a fair coin, which has two distinct and mutually exclusive outcomes: \"heads\" **or** \"tails\". The various factors influencing the outcome of the experiment are too numerous to take into account. Therefore the outcome of the experiment is said to be random, given our ignorance about all possible factors influencing the outcome. Everyone would certainly agree that the probability of getting heads and the probability of getting tails both equal $\\frac{1}{2}$. Intuitively, this answer is based on the idea that two outcomes are equally likely or equiprobable, because of the coin’s symmetric design. \n",
    "\n",
    "When dealing with experiments that have a finite and defined number of mutually exclusive and equiprobable outcomes, such as our coin toss, we can specify an event, denoted as $A$, which represents a set of outcomes (e.g., the coin landing on 'heads'). The probability of event $A$ happening, $P(A)$, is then defined by the proportion of outcomes favorable to $A$ relative to the total number of possible outcomes:\n",
    "\n",
    "$$P(A) = \\frac{N(A)}{N}$$\n",
    "\n",
    "where $N$ is the total number of outcomes of the experiment and $N(A)$ is the number of outcomes leading to the occurrence of the event $A$. This priori approach to probability is based on theoretical reasoning and logical deduction, rather than empirical evidence, and assumes all possible outcomes are known and equally likely. \n",
    "\n",
    "This approach is not the ideal one for data science, where often we cannot assume that all outcomes are known and equally likely. In real-world scenarios, we typically have to rely on observed data to estimate probabilities. This is where the frequentist interpretation of probability comes into play, which is based in the empirical analysis of events.\n",
    "\n",
    "**Frequentist Probability**\n",
    "\n",
    "In contrast to the classical interpretation, frequentist probability states that as an experiment is repeated a large number of times, it will exhibit a remarkable consistency in behavior, which allows us to assign a precise meaning to the concept of probability, not only in cases with equiprobable outcomes but also in the most general situations. Let $n$ be the total number of trials in the experiment, and let $n(A)$ be the number of trials in which $A$ occurs. Then the proportion\n",
    "\n",
    "$$\\frac{n(A)}{n}$$\n",
    "\n",
    "is called the relative frequency of the event $A$ in the given series of trials. It turns out that the relative frequencies observed in different series of trials are approximately the same for a large $n$, clustering about some constant called the probability of the event A. More precisely, this means that\n",
    "\n",
    "$$P(A) = \\lim_{n \\to \\infty} \\frac{n(A)}{n}$$\n",
    "\n",
    "For equiprobable events, such as flipping a fair coin, the frequentist probability approaches the classical probability as the number of trials increases:\n",
    "\n",
    "$$P(A) = \\lim_{n \\to \\infty} \\frac{n(A)}{n}  \\sim \\frac{N(A)}{N}$$\n",
    "\n",
    "This relationship illustrates that under the condition of equiprobability, the empirical frequentist approach converges with the theoretical classical approach. To illustrate this, consider the following simulation of 2000 coin tosses trials to demonstrate this convergence."
   ]
  },
  {
   "cell_type": "code",
   "execution_count": 3,
   "metadata": {},
   "outputs": [
    {
     "data": {
      "image/png": "[encoded data removed]",
      "text/plain": [
       "<Figure size 1000x500 with 1 Axes>"
      ]
     },
     "metadata": {},
     "output_type": "display_data"
    }
   ],
   "source": [
    "red  = '#BE3232'\n",
    "blue = '#3A527B'\n",
    "np.random.seed(46)\n",
    "\n",
    "# Number of trials in the experiment\n",
    "num_trials = 2000\n",
    "\n",
    "# Simulate coin flips\n",
    "flips = np.random.choice(['heads', 'tails'], size=num_trials)\n",
    "\n",
    "# Calculate the relative frequencies\n",
    "heads_cumulative = np.cumsum(flips == 'heads')\n",
    "tails_cumulative = np.cumsum(flips == 'tails')\n",
    "trials = np.arange(1, num_trials + 1)\n",
    "\n",
    "# Frequencies for head and tails\n",
    "freq_heads = heads_cumulative / trials\n",
    "freq_tails = tails_cumulative / trials\n",
    "\n",
    "# Plot the results\n",
    "plt.figure(figsize=(10, 5))\n",
    "plt.plot(trials, freq_heads, label='Heads', color=red)\n",
    "plt.plot(trials, freq_tails, label='Tails', color=blue)\n",
    "plt.axhline(0.5, color='red', linestyle='--', label='Classical Probability')\n",
    "plt.xlabel('Number of Trials', fontsize = 15)\n",
    "plt.ylabel('Relative Frequency', fontsize = 15)\n",
    "plt.xlim(0, num_trials)\n",
    "plt.ylim(0, 1)\n",
    "plt.title('Convergence of Relative Frequency to Probability', fontsize=20)\n",
    "plt.legend()\n",
    "plt.grid(False)\n",
    "plt.show()\n"
   ]
  },
  {
   "cell_type": "markdown",
   "metadata": {},
   "source": [
    "**Exemple**\n",
    "\n",
    "Let's explore the General Social Survey (GSS) dataset to determine the probability of randomly selecting a banking worker. In this dataset, the industry in which a respondent works is denoted by the `indus10` feature, with the code for \"Banking and related activities\" being 6870.\n",
    "\n",
    "**Dataset Features**\n",
    "\n",
    "- `caseid`: Unique identifier for each respondent.\n",
    "- `year`: The year in which the respondent was surveyed.\n",
    "- `age`: The age of the respondent at the time of the survey.\n",
    "- `sex`: The sex of the respondent (male or female).\n",
    "- `polviews`: The respondent's political views, scaled from liberal to conservative.\n",
    "- `partyid`: The respondent's political party affiliation, categorized as Democratic, Republican, or Independent.\n",
    "- `indus10`: Industry code representing the respondent's field of work.\n",
    "\n",
    "To calculate the probability of randomly choosing a banking worker from this dataset, we would count the number of respondents whose `indus10` code is 6870 and divide that by the total number of respondents in the dataset. This can be expressed mathematically as:\n",
    "\n",
    "$$ P(\\text{Banker}) = \\frac{N(\\text{indus10} = 6870)}{N} $$\n",
    "\n",
    "\n",
    "where $N(\\text{indus10} = 6870)$ is the number of banking workers in the dataset and $N$ is the total number of respondents in the dataset."
   ]
  },
  {
   "cell_type": "code",
   "execution_count": 4,
   "metadata": {},
   "outputs": [
    {
     "data": {
      "text/html": [
       "<div>\n",
       "<style scoped>\n",
       "    .dataframe tbody tr th:only-of-type {\n",
       "        vertical-align: middle;\n",
       "    }\n",
       "\n",
       "    .dataframe tbody tr th {\n",
       "        vertical-align: top;\n",
       "    }\n",
       "\n",
       "    .dataframe thead th {\n",
       "        text-align: right;\n",
       "    }\n",
       "</style>\n",
       "<table border=\"1\" class=\"dataframe\">\n",
       "  <thead>\n",
       "    <tr style=\"text-align: right;\">\n",
       "      <th></th>\n",
       "      <th>caseid</th>\n",
       "      <th>year</th>\n",
       "      <th>age</th>\n",
       "      <th>sex</th>\n",
       "      <th>polviews</th>\n",
       "      <th>partyid</th>\n",
       "      <th>indus10</th>\n",
       "    </tr>\n",
       "  </thead>\n",
       "  <tbody>\n",
       "    <tr>\n",
       "      <th>0</th>\n",
       "      <td>1</td>\n",
       "      <td>1974</td>\n",
       "      <td>21.0</td>\n",
       "      <td>1</td>\n",
       "      <td>4.0</td>\n",
       "      <td>2.0</td>\n",
       "      <td>4970.0</td>\n",
       "    </tr>\n",
       "    <tr>\n",
       "      <th>1</th>\n",
       "      <td>2</td>\n",
       "      <td>1974</td>\n",
       "      <td>41.0</td>\n",
       "      <td>1</td>\n",
       "      <td>5.0</td>\n",
       "      <td>0.0</td>\n",
       "      <td>9160.0</td>\n",
       "    </tr>\n",
       "    <tr>\n",
       "      <th>2</th>\n",
       "      <td>5</td>\n",
       "      <td>1974</td>\n",
       "      <td>58.0</td>\n",
       "      <td>2</td>\n",
       "      <td>6.0</td>\n",
       "      <td>1.0</td>\n",
       "      <td>2670.0</td>\n",
       "    </tr>\n",
       "    <tr>\n",
       "      <th>3</th>\n",
       "      <td>6</td>\n",
       "      <td>1974</td>\n",
       "      <td>30.0</td>\n",
       "      <td>1</td>\n",
       "      <td>5.0</td>\n",
       "      <td>4.0</td>\n",
       "      <td>6870.0</td>\n",
       "    </tr>\n",
       "    <tr>\n",
       "      <th>4</th>\n",
       "      <td>7</td>\n",
       "      <td>1974</td>\n",
       "      <td>48.0</td>\n",
       "      <td>1</td>\n",
       "      <td>5.0</td>\n",
       "      <td>4.0</td>\n",
       "      <td>7860.0</td>\n",
       "    </tr>\n",
       "    <tr>\n",
       "      <th>...</th>\n",
       "      <td>...</td>\n",
       "      <td>...</td>\n",
       "      <td>...</td>\n",
       "      <td>...</td>\n",
       "      <td>...</td>\n",
       "      <td>...</td>\n",
       "      <td>...</td>\n",
       "    </tr>\n",
       "    <tr>\n",
       "      <th>49285</th>\n",
       "      <td>2863</td>\n",
       "      <td>2016</td>\n",
       "      <td>57.0</td>\n",
       "      <td>2</td>\n",
       "      <td>1.0</td>\n",
       "      <td>0.0</td>\n",
       "      <td>7490.0</td>\n",
       "    </tr>\n",
       "    <tr>\n",
       "      <th>49286</th>\n",
       "      <td>2864</td>\n",
       "      <td>2016</td>\n",
       "      <td>77.0</td>\n",
       "      <td>1</td>\n",
       "      <td>6.0</td>\n",
       "      <td>7.0</td>\n",
       "      <td>3590.0</td>\n",
       "    </tr>\n",
       "    <tr>\n",
       "      <th>49287</th>\n",
       "      <td>2865</td>\n",
       "      <td>2016</td>\n",
       "      <td>87.0</td>\n",
       "      <td>2</td>\n",
       "      <td>4.0</td>\n",
       "      <td>5.0</td>\n",
       "      <td>770.0</td>\n",
       "    </tr>\n",
       "    <tr>\n",
       "      <th>49288</th>\n",
       "      <td>2866</td>\n",
       "      <td>2016</td>\n",
       "      <td>55.0</td>\n",
       "      <td>2</td>\n",
       "      <td>5.0</td>\n",
       "      <td>5.0</td>\n",
       "      <td>8680.0</td>\n",
       "    </tr>\n",
       "    <tr>\n",
       "      <th>49289</th>\n",
       "      <td>2867</td>\n",
       "      <td>2016</td>\n",
       "      <td>72.0</td>\n",
       "      <td>1</td>\n",
       "      <td>5.0</td>\n",
       "      <td>3.0</td>\n",
       "      <td>5170.0</td>\n",
       "    </tr>\n",
       "  </tbody>\n",
       "</table>\n",
       "<p>49290 rows × 7 columns</p>\n",
       "</div>"
      ],
      "text/plain": [
       "       caseid  year   age  sex  polviews  partyid  indus10\n",
       "0           1  1974  21.0    1       4.0      2.0   4970.0\n",
       "1           2  1974  41.0    1       5.0      0.0   9160.0\n",
       "2           5  1974  58.0    2       6.0      1.0   2670.0\n",
       "3           6  1974  30.0    1       5.0      4.0   6870.0\n",
       "4           7  1974  48.0    1       5.0      4.0   7860.0\n",
       "...       ...   ...   ...  ...       ...      ...      ...\n",
       "49285    2863  2016  57.0    2       1.0      0.0   7490.0\n",
       "49286    2864  2016  77.0    1       6.0      7.0   3590.0\n",
       "49287    2865  2016  87.0    2       4.0      5.0    770.0\n",
       "49288    2866  2016  55.0    2       5.0      5.0   8680.0\n",
       "49289    2867  2016  72.0    1       5.0      3.0   5170.0\n",
       "\n",
       "[49290 rows x 7 columns]"
      ]
     },
     "execution_count": 4,
     "metadata": {},
     "output_type": "execute_result"
    }
   ],
   "source": [
    "# General Social Survey data\n",
    "gss = pd.read_csv('data/gss.csv')\n",
    "gss"
   ]
  },
  {
   "cell_type": "code",
   "execution_count": 5,
   "metadata": {},
   "outputs": [],
   "source": [
    "# Define the ordinary probability\n",
    "def prob(event):\n",
    "    \"\"\"Calculate the probability of an event.\"\"\"\n",
    "    N = len(event)\n",
    "    return event.sum() / N"
   ]
  },
  {
   "cell_type": "code",
   "execution_count": 6,
   "metadata": {},
   "outputs": [
    {
     "name": "stdout",
     "output_type": "stream",
     "text": [
      "P(banker) =  0.014769730168391155\n"
     ]
    }
   ],
   "source": [
    "# Banking and related activities\n",
    "banker = (gss['indus10'] == 6870)\n",
    "\n",
    "print(\"P(banker) = \", prob(banker))"
   ]
  },
  {
   "cell_type": "markdown",
   "metadata": {},
   "source": [
    "We can see that about $1.5\\%$ of the respondents work in banking, so if we choose a random person from the dataset, the probability they are a banker is about $1.5\\%$."
   ]
  },
  {
   "cell_type": "markdown",
   "metadata": {},
   "source": [
    "## **Joint Probability**\n",
    "\n",
    "Joint probability is the probability of two or more events happening at the same time. For two events, $A$ and $B$, the joint probability is mathematically represented as:\n",
    "\n",
    "$$\n",
    "P(A \\cap B) = P(A \\text{ and } B)\n",
    "$$\n",
    "\n",
    "In practical terms, it answers questions such as: \"What is the probability that event $A$ happen while event $B$ also happens?\" We can think of this in terms of sets, where both events $A$ and $B$ are considered a set of outcomes for a given experiment. The intersection set $A \\cap B$ represents the outcomes where both events $A$ and $B$ happens simultaneously.\n",
    "\n",
    "  <center><img src = \"figures/venn-diagram-intersection.png\" width=\"500\" height=\"300\"/></center>\n",
    "\n",
    "In this illustration, $\\Omega$ is known as the sample space of all possible outcomes from the experiment. As subsets of the sample space $\\Omega$, we have the sets of outcomes leading to events $A$ and $B$, and their intersection when both events happen in the same trial for this experiment.\n",
    "\n",
    "Let's consider an experiment with an equiprobable and finite number of outcomes. Let $N$ denote the total number of trials in the experiment. Suppose $N(A)$ and $N(B)$ represent the number of trials where events $A$ and $B$ happen, respectively, and $N(A \\cap B)$ represents the number of trials that both events $A$ and $B$ happen together ( intersection set). In this scenario, the joint probability can be expressed as:\n",
    "\n",
    "$$\n",
    "P(A \\cap B) = \\frac{N(A \\cap B)}{N}\n",
    "$$\n",
    "\n",
    "If we are considering more than two events, say $A$, $B$, and $C$, the joint probability can be generalized further as:\n",
    "\n",
    "$$\n",
    "P(A \\cap B \\cap C) = P(A \\text{ and } B \\text{ and } C)\n",
    "$$\n",
    "\n",
    "This concept is extendable to any number of events, providing a robust tool to evaluate the probability of several interconnected events happening simultaneously.\n",
    "\n",
    "When the events are mutually exclusive, meaning that they cannot happen together in the same trial, the joint probability is zero \n",
    "\n",
    "  <center><img src = \"figures/venn-diagram-null.png\" width=\"500\" height=\"300\"/></center>\n",
    "\n",
    "\n",
    "In this case, as illustrated, the sets for events $A$ and $B$ have an empty intersection set $A \\cap B = \\emptyset$, hence the joint probability must be zero:\n",
    "\n",
    "$$\n",
    "P(A \\cap B) = 0\n",
    "$$\n"
   ]
  },
  {
   "cell_type": "markdown",
   "metadata": {},
   "source": [
    "**Example**\n",
    "\n",
    "Let's explore the the probability of selecting a respondent who is both a banker and a Democrat from the General Social Survey (GSS) dataset. Here, the occupation of the respondent is encoded in the `indus10` feature, where the code for \"Banking and related activities\" 6870. Similarly, the `partyid` feature encodes the political affiliation of the respondent, with codes ranging from 0 to 7.\n",
    "\n",
    "`partyid`\n",
    "\n",
    "- 0 Strong democrat\n",
    "- 1 Not strong democrat\n",
    "- 2 Independent, near democrat\n",
    "- 3 Independent\n",
    "- 4 Independent, near republican\n",
    "- 5 Not strong republican\n",
    "- 6 Strong republican\n",
    "- 7 Other party\n",
    "\n",
    "To calculate the probability of randomly selecting a respondent who is a banker and also identifies as a Democrat (strong or not strong), we would identify the intersection set of respondents whose `indus10` code indicates they are bankers and whose `partyid` is either 0 or 1. This gives the joint probability of this two events happen simultaneously:\n",
    "\n",
    "$$ P(\\text{Banker and Democrat}) = \\frac{N\\bigg((\\text{indus10} = 6870) \\cap (\\text{partyid} \\leq 1)\\bigg)}{N} $$"
   ]
  },
  {
   "cell_type": "code",
   "execution_count": 7,
   "metadata": {},
   "outputs": [
    {
     "name": "stdout",
     "output_type": "stream",
     "text": [
      "P(democrat and banker) = 0.004686548995739501\n"
     ]
    }
   ],
   "source": [
    "# Banking and related activities\n",
    "banker = (gss['indus10'] == 6870)\n",
    "\n",
    "# Banking and related activities\n",
    "democrat = (gss['partyid'] <= 1)\n",
    "\n",
    "print(\"P(democrat and banker) =\", prob(banker & democrat))"
   ]
  },
  {
   "cell_type": "markdown",
   "metadata": {},
   "source": [
    "The data reveals that $P(\\text{Banker and Democrat}) = 0.0047 $ (or 0.47%) and $P(\\text{Banker}) = 0.015 $ (or 1.5%), it confirms that the subset of bankers who are Democrats is less than the overall proportion of bankers in the dataset, as not all bankers are Democrats."
   ]
  },
  {
   "cell_type": "markdown",
   "metadata": {},
   "source": [
    "## **Conditional Probability**\n",
    "\n",
    "Conditional probability helps us understand the relationship between two events, $A$ and $B$. In particular, it describes the probability of event $A$ given that event $B$ has already happened. The conditional probability of event $A$ given event $B$ is defined as:\n",
    "\n",
    "$$P(A|B) = \\frac{P(A \\cap B)}{P(B)}.$$\n",
    "\n",
    "Here, $P(A \\cap B)$ represents the joint probability, which means the chance of two events happening simultaneously (or at same trial in a experiment). Suppose we conduct a random experiment with a equiprobable and finite number of outcomes. Let $N$ represent the total number of trials, $N(B)$ be the number of trials resulting in event $B$, and $N(A \\cap B)$ be the number of trials where both $A$ and $B$ happen together. In this case, the probability of $B$ and the joint probability $A \\cap B$ can be expressed as:\n",
    "\n",
    "$$P(B) = \\frac{N(B)}{N}, ~~~~~~P(A \\cap B) = \\frac{N(A \\cap B)}{N},$$\n",
    "\n",
    "Using these expressions, we can rewrite the conditional probability of $A$ given $B$ as:\n",
    "\n",
    "$$P(A|B) = \\frac{N(A \\cap B)}{N(B)}.$$\n",
    "\n",
    "This equation essentially calculates the proportion of trials where both $A$ and $B$ happen (joint probability) out of the trials where event $B$ occurs.\n",
    "\n",
    "When the event $A$ implies in $B$ ($B$ is subset of $A$: $B \\subset A$ ), meaning that the events always happen together in the same trial, the conditional probability is one\n",
    "\n",
    "<center><img src = \"figures/venn-diagram-subset.png\" width=\"500\" height=\"300\"/></center>\n",
    "\n",
    "In this case, as illustrated, the set $B$ is subset of $A$, which implies a $100\\%$ chance of event $A$ happening given that event $B$ happen:\n",
    "\n",
    "$$P(A|B) = 1$$ "
   ]
  },
  {
   "cell_type": "markdown",
   "metadata": {},
   "source": [
    "**Example**\n",
    "\n",
    "Let's examine the probability of selecting a respondent who is a Democrat, given their political views are liberal. In the GSS dataset, respondents' political views are classified under the `polviews` feature, with the codes for being liberal as\n",
    "\n",
    "`polviews` \n",
    "\n",
    "- 1 Extremely liberal\n",
    "- 2 Liberal\n",
    "- 3 Slightly liberal\n",
    "\n",
    "and for democrats as\n",
    "\n",
    "\n",
    "`partyid`\n",
    "\n",
    "- 0 Strong democrat\n",
    "- 1 Not strong democrat\n",
    "- 2 Independent, near democrat\n",
    "\n",
    "To compute the conditional probability of a respondent being a Democrat given that they are liberal is given by\n",
    "\n",
    "$$ P(\\text{Democrat} | \\text{Liberal}) = \\frac{N\\bigg((\\text{polviews} = 2) \\cap (\\text{partyid} \\leq 1)\\bigg)}{N(\\text{polviews} = 2)} $$\n",
    "\n",
    "where $N(\\text{polviews} = 2) \\cap (\\text{partyid} \\leq 1)$ is the number of respondents who are both liberal and Democrat, and $N(\\text{polviews} = 2)$ is the total number of liberal respondents in the dataset."
   ]
  },
  {
   "cell_type": "code",
   "execution_count": 8,
   "metadata": {},
   "outputs": [
    {
     "data": {
      "text/plain": [
       "8         True\n",
       "17        True\n",
       "18       False\n",
       "24        True\n",
       "28       False\n",
       "         ...  \n",
       "49267     True\n",
       "49271     True\n",
       "49278     True\n",
       "49279     True\n",
       "49285     True\n",
       "Name: partyid, Length: 13493, dtype: bool"
      ]
     },
     "execution_count": 8,
     "metadata": {},
     "output_type": "execute_result"
    }
   ],
   "source": [
    "# Propositions\n",
    "# set of liberal respondents\n",
    "liberal = (gss['polviews'] <= 3)\n",
    "# set of bankers by industry code\n",
    "banker = (gss['indus10'] == 6870)\n",
    "# set of Democrats and strong Democrats\n",
    "democrat = (gss['partyid'] <= 2)\n",
    "\n",
    "# subset that includes only the respondents who are both liberal and Democrats\n",
    "liberal_democrats = democrat[liberal]\n",
    "liberal_democrats"
   ]
  },
  {
   "cell_type": "markdown",
   "metadata": {},
   "source": [
    "This essentially gives the intersection of the two sets, yielding a data series of booleans that are True only where someone is both liberal and a democrat and False otherwise."
   ]
  },
  {
   "cell_type": "code",
   "execution_count": 9,
   "metadata": {},
   "outputs": [
    {
     "name": "stdout",
     "output_type": "stream",
     "text": [
      "p(liberal|democrat) =  0.7046616764248128\n",
      "p(liberal|democrat) =  0.7046616764248128\n",
      "p(liberal|democrat) =  0.7046616764248128\n"
     ]
    }
   ],
   "source": [
    "# Define the conditional probability\n",
    "def conditional(event, given):\n",
    "    \"\"\"\n",
    "    Calculate the conditional probability of an event given a condition.\n",
    "    The function prob() is used to compute the probability, where prob is previously defined to calculate\n",
    "    the probability of the occurrence of an event.\n",
    "    \"\"\"\n",
    "\n",
    "    # Probability of Sample space to only instances where the given condition is true\n",
    "    return prob(event[given])\n",
    "\n",
    "# Method 1: Using subset of liberal and Democrats to restrict sample space.\n",
    "print(\"p(liberal|democrat) = \", prob(liberal_democrats))\n",
    "\n",
    "# Method 2: Using explicit Boolean conditions to restrict sample space.\n",
    "print(\"p(liberal|democrat) = \", prob(liberal & democrat) / prob(liberal))\n",
    "\n",
    "# Method 3: Using subset of liberal and Democrats calculated inside the function by the given condition.\n",
    "print(\"p(liberal|democrat) = \", conditional(democrat, given = liberal))\n"
   ]
  },
  {
   "cell_type": "markdown",
   "metadata": {},
   "source": [
    "As we can observe, **ordinary probability** considers the probability of an event happening over the entire sample space $\\Omega$ ( entire set of possible outcomes). On the other hand, **conditional probability** restricts this context by considering the probability of an event under a specific condition or set of conditions. It refines our expectations about an event by taking into account additional information that restricts the sample space $\\Omega$ to a small region — the \"given\" condition.\n",
    "\n",
    "This approach can be extended to account for multiple conditions simultaneously. This chain of conditions leads to scenarios where various factors intersect, allowing for more complex probability questions. It's the mathematical equivalent of saying, \"Given this and that, what are the probabilities of something else happening?\"\n",
    "\n",
    "For example, what is the probability of selecting a Democrat given that he is a Liberal and a Banker? Or, what is the probability of selecting a Liberal given that he is a Banker and a Democrat?\n"
   ]
  },
  {
   "cell_type": "code",
   "execution_count": 10,
   "metadata": {},
   "outputs": [
    {
     "name": "stdout",
     "output_type": "stream",
     "text": [
      "p(Democrat|Liberal and Banker) =  0.6441717791411042\n",
      "p(Liberal and Banker|Democrat) =  0.004333470903838217\n"
     ]
    }
   ],
   "source": [
    "# conditional probability of being a democrat given being liberal and a banker\n",
    "print(\"p(Democrat|Liberal and Banker) = \", conditional(democrat, given=liberal & banker))\n",
    "\n",
    "# conditional probability of being liberal and a banker given being a democrat\n",
    "print(\"p(Liberal and Banker|Democrat) = \", conditional(liberal & banker, given=democrat))"
   ]
  },
  {
   "cell_type": "markdown",
   "metadata": {},
   "source": [
    "## **Addition Law for Probability**\n",
    "\n",
    "Consider two mutually exclusive events $A_1$ and $A_2$ associated with the outcomes of a random experiment, and let $A = A_1 \\cup A_2$ be the union of the two events. If events $A_1$ and $A_2$ are mutually exclusive, by definition, they cannot happen simultaneously. This implies that the intersection of these two events must be $A_1 \\cap A_2 = \\emptyset$. If $A$ happen in a trial, it means that either event $A_1$ has happened, or event $A_2$ has happened, but not both since $A_1$ and $A_2$ are mutually exclusive. We can see this in the following figure for the sets $A_1$ and $A_2$:\n",
    "\n",
    "<center><img src = \"figures/venn-diagram-null-mutually-exclusive.png\" width=\"500\" height=\"300\"/></center>\n",
    "\n",
    "The union of the events $A_1 \\cup A_2$ includes all the outcomes of both events, without any overlap. So, when counting the number of outcomes in $A$, we are essentially counting the number of outcomes in $A_1$ and $A_2$ separately and then adding them together. Therefore, we can write:\n",
    "\n",
    "$$\n",
    "\\frac{N(A)}{N} = \\frac{N(A_1)}{N} + \\frac{N(A_2)}{N}\n",
    "$$\n",
    "\n",
    "where $N$ is the total number of trials in the experiment, and $N(A)$, $N(A_1)$, $N(A_2)$ are the total number of trials leading to events $A$, $A_1$, and $A_2$, respectively.\n",
    "\n",
    "For a sufficiently large number of trials $N$, the relative frequencies $\\frac{N(A)}{N}$, $\\frac{N(A_1)}{N}$, $\\frac{N(A_2)}{N}$ will coincide with the corresponding probabilities $P(A)$, $P(A_1)$, $P(A_2)$. We get:\n",
    "\n",
    "$$\n",
    "P(A) = P(A_1) + P(A_2)\n",
    "$$\n",
    "\n",
    "Similarly, if events $A_1$, $A_2$, and $A_3$ are mutually exclusive, it means that no two of these events can happen simultaneously. This implies that their pairwise intersections are empty: $A_1 \\cap A_2 = \\emptyset$, $A_2 \\cap A_3 = \\emptyset$, and $A_1 \\cap A_3 = \\emptyset$. As a result, the union of events $A_1$ and $A_2$ is also mutually exclusive with $A_3$. For the probability, this can be expressed as:\n",
    "\n",
    "$$\n",
    "P(A_1 \\cup A_2 \\cup A_3) = P(A_1 \\cup A_2) + P(A_3)\n",
    "$$\n",
    "\n",
    "Since $A_1$ and $A_2$ are mutually exclusive, we get:\n",
    "\n",
    "$$\n",
    "P(A_1 \\cup A_2 \\cup A_3) =  P(A_1) + P(A_2) + P(A_3)\n",
    "$$\n",
    "\n",
    "More generally, given $N$ mutually exclusive events $A_1$, $A_2$, $\\cdots$, $A_n$, we have the formula:\n",
    "\n",
    "$$\n",
    "P(\\bigcup_{k=1}^{n}A_{k}) = \\sum_{k=1}^{n} P(A_{k}) \n",
    "$$"
   ]
  },
  {
   "cell_type": "markdown",
   "metadata": {},
   "source": [
    "**Example**\n",
    "\n",
    "We are interested in finding the probability that a randomly selected respondent is **either a liberal Democrat or a conservative Republican**. To do this, we will identify and use two mutually exclusive events based on the respondents' political party affiliations (`partyid`) and views (`polviews`).\n",
    "\n",
    "for the liberal and conservative party affiliations the code are :\n",
    "\n",
    "`partyid`\n",
    "\n",
    "- 1 Extremely liberal\n",
    "- 2 Liberal\n",
    "- 3 Slightly liberal\n",
    "- 5 Slightly conservative\n",
    "- 6 Conservative\n",
    "- 7 Extremely conservative\n",
    "\n",
    "For the political view of democrat and republican we have:\n",
    "\n",
    "`polviews`\n",
    "\n",
    "- 0 Strong democrat\n",
    "- 1 Not strong democrat\n",
    "- 2 Independent, near democrat\n",
    "- 4 Independent, near republican\n",
    "- 5 Not strong republican\n",
    "- 6 Strong republican\n",
    "\n",
    "\n",
    "\n"
   ]
  },
  {
   "cell_type": "code",
   "execution_count": 11,
   "metadata": {},
   "outputs": [
    {
     "name": "stdout",
     "output_type": "stream",
     "text": [
      "liberal democrat & conservative republican =  0\n"
     ]
    }
   ],
   "source": [
    "# Political view\n",
    "liberal = (gss['polviews'] <= 3)\n",
    "conservative = (gss['polviews'] >= 5)\n",
    "\n",
    "# Party affiliations\n",
    "democrat = (gss['partyid'] <= 1)\n",
    "republican = (gss['partyid'] >= 4)\n",
    "\n",
    "# Intersections of partyid and polviews\n",
    "liberal_democrat = liberal & democrat\n",
    "conservative_republican = conservative & republican\n",
    "\n",
    "# Intersection of mutually exclusive set of events --> Empty set\n",
    "empty_set = (liberal_democrat & conservative_republican).sum()\n",
    "print( \"liberal democrat & conservative republican = \", empty_set)"
   ]
  },
  {
   "cell_type": "markdown",
   "metadata": {},
   "source": [
    "The probability of randomly selecting either a liberal democrat or a conservative republican is given by:"
   ]
  },
  {
   "cell_type": "code",
   "execution_count": 12,
   "metadata": {},
   "outputs": [
    {
     "name": "stdout",
     "output_type": "stream",
     "text": [
      "Total Probability = 0.3445120714140799\n"
     ]
    }
   ],
   "source": [
    "# Total probability of either a liberal democrat or a conservative republican\n",
    "p = prob(liberal_democrat) + prob(conservative_republican)\n",
    "print('Total Probability =', p)"
   ]
  },
  {
   "cell_type": "markdown",
   "metadata": {},
   "source": [
    "### **Addition Law for Conditional Probability**\n",
    "\n",
    "If $A_1, \\cdots, A_n$ are mutually exclusive events, with union $A = \\bigcup_{k=1}^{n}A_{k}$, then the addition law for conditional probability is\n",
    "  $P(A|B) = \\sum_{k=1}^{n} P(A_k|B)$.\n",
    "\n",
    "**Proof**:\n",
    "  \n",
    "Given that $A_1, \\cdots, A_n$ are mutually exclusive, we have:\n",
    "\n",
    "$$A \\cap B = \\bigcup_{k=1}^{n}(A_{k}\\cap B)$$\n",
    "\n",
    "This represents the union of each intersection of $A_k \\cap B$ for each $k = 1,2,...n$. By the addition law:\n",
    "\n",
    "$$P(\\bigcup_{k=1}^{n}(A_{k}\\cap B)) = \\sum_{k=1}^{n} P(A_{k}\\cap B)$$\n",
    "\n",
    "Dividing by $P(B)$, we get:\n",
    "\n",
    "$$\\frac{P(\\bigcup_{k=1}^{n}(A_{k}\\cap B))}{P(B)} = \\sum_{k=1}^{n} \\frac{P(A_{k}\\cap B)}{P(B)}$$\n",
    "\n",
    "Thus,\n",
    "\n",
    "$$P(A|B) = \\sum_{k=1}^{n} P(A_k|B) ~~ \\square$$"
   ]
  },
  {
   "cell_type": "markdown",
   "metadata": {},
   "source": [
    "**Example**\n",
    "\n",
    "Respondents were asked about their age and their political party affiliation. Let's focus on two age groups: those younger than 30 years old, and those between 30 and 40 years old. What is the probability that a respondent falls into one of two age categories, given that they identify as a Democrat?\n",
    "\n",
    "\n",
    "Here, the union of two mutually exclusive events $A_1$ and $A_2$ to create a new event that we can call \"age group\". This \"age group\" event $A$ encompasses all the possible outcomes for a respondent's age being less than 30 or between 30 and 40, and it can be formally defined as\n",
    "\n",
    "$$\n",
    "A = A_1 \\cup A_2\n",
    "$$\n",
    "\n",
    "where\n",
    "- $A_1$: The event where the respondent is younger than 30 years old\n",
    "- $A_2$: The event where the respondent is between 30 and 40 years old\n",
    "\n",
    "using the addition law for conditional probability, where $B$ is the event that the respondent identifies as a Democrat we can get the following result:"
   ]
  },
  {
   "cell_type": "code",
   "execution_count": 13,
   "metadata": {},
   "outputs": [
    {
     "name": "stdout",
     "output_type": "stream",
     "text": [
      "Age groups set are mutually exclusive = 0 \n",
      "\n",
      "P(Age Group | Democrat) =  0.39638841189829943\n"
     ]
    }
   ],
   "source": [
    "# Define mutually exclusive age groups\n",
    "less_30 = (gss['age'] < 30)\n",
    "between_30_40 = (gss['age'] >= 30) & (gss['age'] <= 40)\n",
    "\n",
    "# Define Democrats set\n",
    "democrat = (gss['partyid'] <= 1) \n",
    "\n",
    "# Mutually exclusive events\n",
    "print(\"Age groups set are mutually exclusive = {} \\n\".format( (less_30 & between_30_40).sum()) )\n",
    "\n",
    "# Calculate conditional probabilities\n",
    "p_age_group_given_democrat = conditional(less_30, given=democrat) + conditional(between_30_40, given=democrat)\n",
    "\n",
    "print(\"P(Age Group | Democrat) = \", p_age_group_given_democrat)"
   ]
  },
  {
   "cell_type": "markdown",
   "metadata": {},
   "source": [
    "## **Law of Total Probability**\n",
    "\n",
    "Suppose we have a complete set of mutually exclusive and exhaustive events $B_1, \\cdots, B_n$, meaning only one of these events can happen at a time, and their union covers the entire sample space. We can find the ordinary probability of event $A$ happening using the total probability formula:\n",
    "\n",
    "$$P(A) = \\sum_k P(A|B_k)P(B_k)$$\n",
    "\n",
    "As we see before Mutually exclusive events are events that cannot happen simultaneously. On the other hand, exhaustive events are events that, when considered their union, cover the entire sample space $\\Omega$. When a set of events is both mutually exclusive and exhaustive, it means that they cover all possible outcomes without overlapping.\n",
    "\n",
    "To better understand mutually exclusive and exhaustive events, consider the example of rolling a fair six-sided die. The sample space for this experiment is the set of outcomes $\\{1, 2, 3, 4, 5, 6\\}$. We can define the events as follows:\n",
    "\n",
    "- Event $B_1$: The die shows an odd number (outcomes: $\\{1, 3, 5\\}$)\n",
    "- Event $B_2$: The die shows an even number (outcomes: $\\{2, 4, 6\\}$)\n",
    "\n",
    "The events $B_1$ and $B_2$ are mutually exclusive, because no outcome can be both odd and even simultaneously. Furthermore, these events are exhaustive, because together they cover the entire sample space.\n",
    "\n",
    "**Proof:**\n",
    "\n",
    "Consider $\\Omega$ as the sample space. If $B_1, \\cdots, B_n$ are all the possible mutually exclusive and exhaustive events. If their union covers the entire sample space, then:\n",
    "\n",
    "$$\\bigcup_k B_k= \\Omega$$\n",
    "\n",
    "Consequently, event $A$ can be expressed as the union of its intersections with each of the mutually exclusive events $B_k$:\n",
    "\n",
    "$$A = \\bigcup_k (A \\cap B_k)$$\n",
    "\n",
    "Since the events $A \\cap B_k$ are mutually exclusive, we can apply the addition rule of probability:\n",
    "\n",
    "$$P(A) = P(\\bigcup_k (A \\cap B_k)) = \\sum_k P(A \\cap B_k)$$\n",
    "\n",
    "Now we can rewrite the probability of the intersection using conditional probability:\n",
    "\n",
    "$$P(A) = \\sum_k P(A \\cap B_k) = \\sum_k P(A |B_k)P(B_k)~~~~ \\square$$\n",
    "\n",
    "\n",
    "This proof demonstrates how we can find the probability of an event $A$ happening by considering its relationship with a set of mutually exclusive and exhaustive events $B_1, \\cdots, B_n$."
   ]
  },
  {
   "cell_type": "markdown",
   "metadata": {},
   "source": [
    "**Example**\n",
    "\n",
    "Let's compute the probability that a respondent is a banker using the law of total probability.\n",
    "\n",
    "Using the ordinary probability, we have:\n",
    "\n",
    "$$P(\\text{banker}) = \\frac{N(\\text{banker})}{N}$$"
   ]
  },
  {
   "cell_type": "code",
   "execution_count": 14,
   "metadata": {},
   "outputs": [
    {
     "name": "stdout",
     "output_type": "stream",
     "text": [
      "P(banker) =  0.014769730168391155\n"
     ]
    }
   ],
   "source": [
    "# Define 'banker' as respondents with the industry code for banking\n",
    "banker = (gss['indus10'] == 6870)\n",
    "print(\"P(banker) = \", prob(banker))"
   ]
  },
  {
   "cell_type": "markdown",
   "metadata": {},
   "source": [
    "To apply the law of total probability, we need a mutually exclusive and exhaustive set that partitions the sample space. In this dataset, the categories of 'male' and 'female' serve as such a partition:\n",
    "\n",
    "$$P(\\text{banker}) = P(\\text{banker}|\\text{male})P(\\text{male}) + P(\\text{banker}|\\text{female})P(\\text{female}) $$"
   ]
  },
  {
   "cell_type": "code",
   "execution_count": 15,
   "metadata": {},
   "outputs": [
    {
     "name": "stdout",
     "output_type": "stream",
     "text": [
      "P(banker) =  0.014769730168391153\n"
     ]
    }
   ],
   "source": [
    "# Define 'male' and 'female' sets\n",
    "male = (gss['sex'] == 1)\n",
    "female = (gss['sex'] == 2)\n",
    "\n",
    "# Calculate conditional probabilities\n",
    "p = conditional(banker, given=male) * prob(male) + conditional(banker, given=female) * prob(female)\n",
    "print(\"P(banker) = \", p)"
   ]
  },
  {
   "cell_type": "markdown",
   "metadata": {},
   "source": [
    "We can subdivide the sample space further by considering the `polviews` feature, which categorizes respondents' political views. Since `polviews` contains seven distinct categories, each mutually exclusive and collectively exhaustive, we can use them to compute the total probability:\n",
    "\n",
    "$$P(\\text{banker}) = \\sum^{7}_{i=1} P(\\text{banker}|\\text{polviews} = i)P(\\text{polviews} = i)$$\n",
    "\n"
   ]
  },
  {
   "cell_type": "code",
   "execution_count": 16,
   "metadata": {},
   "outputs": [
    {
     "name": "stdout",
     "output_type": "stream",
     "text": [
      "\n",
      " P(banker) =  0.014769730168391157\n"
     ]
    }
   ],
   "source": [
    "# Compute the total probability across political views\n",
    "p = sum(prob(gss['polviews'] == i) * conditional(banker, given=(gss['polviews'] == i)) for i in range(1, 8))\n",
    "print(\"\\n P(banker) = \", p)"
   ]
  },
  {
   "cell_type": "markdown",
   "metadata": {},
   "source": [
    "This shows how we can partition the sample space $\\Omega$ using polviews, ensuring that all possible outcomes are considered when computing the total probability."
   ]
  },
  {
   "cell_type": "markdown",
   "metadata": {},
   "source": [
    "# **Bayes's Theorem**\n",
    "\n",
    "Given two events A and B, Bayes' theorem relates the conditional probability of A given B, i.e. $P(A\\mid  B)$, to the conditional probability of B given A, i.e. $P(B\\mid  A)$, along with the individual probabilities $P(A)$ and $P(B)$:\n",
    "\n",
    "\n",
    "$$\n",
    "\\begin{equation*}\n",
    "P(A\\mid B) = \\frac{P(B\\mid  A) \\cdot P(A)}{P(B)} = \\frac{P(B\\mid A) \\cdot P(A)}{\\sum_k P(B\\mid A_k)P(A_k)}\n",
    "\\end{equation*}\n",
    "$$\n",
    "\n",
    "where:\n",
    "\n",
    "\n",
    "- $P(A\\mid B)$: is the **posterior probability**. It represents the probability of event A happening, given that event B has happened. This is what we're trying to find using Bayes' theorem. It reflects our updated belief about event A after taking into account the new information provided by event B.\n",
    "\n",
    "\n",
    "- $P(B\\mid A)$: is the **likelihood**. It represents the probability of event B happening, given that event A has happened. This is often a known value or can be estimated from available data. It tells us how likely it is to observe event B when event A is true.\n",
    "\n",
    "- $P(A)$: is the **prior probability**. It represents the probability of event A happening before taking into account any new information from event B. This is our initial belief about event A and can be based on previous data, expert opinion, or assumptions.\n",
    "\n",
    "- $P(B)$: is the **total probability or evidence**. It represents the overall probability of event B happening, regardless of whether event A happens or not. This value can be calculated using the **law of total probability**, which takes into account both the probabilities of B happening when A happens and when A doesn't happen. Specifically, if we have a finite set of mutually exclusive and exhaustive events $A_1, \\cdots, A_n$, then the probability of event B can be expressed as:\n",
    "\n",
    "  $$P(B) = \\sum_k P(B\\mid A_k)P(A_k)$$\n",
    "\n",
    "  - **Mutually exclusive:** The events $A_k$ do not happen simultaneously. For any pair of events $A_i$ and $A_j$, if $i \\neq j$, then $P(A_i \\cap A_j) = 0$.\n",
    "  - **Exhaustive:** The union of all events $A_k$ covers the entire sample space, meaning that at least one of the events $A_k$ must happen. Mathematically, $\\bigcup_k A_k = \\Omega$, where $\\Omega$ is the sample space.\n",
    "\n",
    "**Proof:**\n",
    "\n",
    "For event A given event B, the conditional probability is defined as:\n",
    "\n",
    "$$P(A\\mid B) = \\frac{P(A \\cap B)}{P(B)}$$\n",
    "\n",
    "Likewise, the conditional probability of event B given event A is expressed as:\n",
    "\n",
    "$$P(B\\mid A) = \\frac{P(A \\cap B)}{P(A)}$$\n",
    "\n",
    "Our objective is to derive Bayes' theorem, which connects $P(A\\mid B)$ and $P(B\\mid A)$. To achieve this, we first isolate $P(A\\cap B)$ in the second equation:\n",
    "\n",
    "$$P(A \\cap B) = P(B\\mid A) \\cdot P(A)$$\n",
    "\n",
    "Next, substitute this expression for $P(A \\cap B)$ into the first equation:\n",
    "\n",
    "$$P(A\\mid B) = \\frac{P(B\\mid A) \\cdot P(A)}{P(B)}~~~~\\square$$"
   ]
  },
  {
   "cell_type": "markdown",
   "metadata": {},
   "source": [
    "## **Interpretations of Bayes's Theorem**\n",
    "\n",
    "**Bayes's Rule as Cause and Effect**\n",
    "\n",
    "At the core of Bayes' rule is the capability to invert conditional probabilities. Suppose we know the probability of an effect given a cause, $P(B|A)$, and we're curious about the probability of the cause given the effect, $P(A|B)$. Bayes' theorem enables this inversion, effectively allowing us to transition between the probabilities of cause and effect.\n",
    "\n",
    "**Bayes's Rule to update Beliefs ( Bayesian update)**\n",
    "\n",
    "Beyond inverting conditional probabilities, Bayes' theorem also can be used as a way of updating beliefs with new data. Here, the key is the notion of the \"prior\" and the \"posterior\". The prior belief, $P(H)$, represents what initially we think about the hypothesis $H$. As new data $D$ becomes available, we update this belief to get a posterior belief, $P(H|D)$. In this context, the theorem is formulated as:\n",
    "\n",
    "\n",
    "$$ P(H|D) = \\frac{P(H)P(D|H)}{P(D)} $$\n",
    "\n",
    "Each term in this equation is defined as follows:\n",
    "- $ P(H) $: The prior probability of the hypothesis before observing the data.\n",
    "- $ P(H|D) $: The posterior probability of the hypothesis after observing the data.\n",
    "- $ P(D|H) $: The likelihood of observing the data under the hypothesis.\n",
    "- $ P(D) $: The total probability of observing the data under any hypothesis.\n",
    "\n",
    "Calculating the total probability of the data, $ P(D) $, can be challenging since it represents the probability of the data under all possible hypotheses. To accurately apply the law of total probability, we must use a set of hypotheses that are mutually exclusive and collectively exhaustive:\n",
    "- Mutually exclusive: only one hypothesis can be true.\n",
    "- Collectively exhaustive: at least one of the hypotheses must be true.\n",
    "\n",
    "Under these conditions, we can compute $ P(D) $ using the law of total probability. For two hypotheses, $ H_1 $ and $ H_2 $, this is calculated as:\n",
    "\n",
    "$$ P(D) = P(H_1)P(D|H_1) + P(H_2)P(D|H_2) $$\n",
    "\n",
    "For any number of hypotheses, the formula generalizes to:\n",
    "\n",
    "$$ P(D) = \\sum_i P(H_i)P(D|H_i) $$"
   ]
  },
  {
   "cell_type": "markdown",
   "metadata": {},
   "source": [
    "## **Bayes's Applications**\n",
    "### **Urn problem**\n",
    "\n",
    "Imagine a scenario involving two urns, each containing a mixture of blue and red balls:\n",
    "\n",
    "- Urn 1 contains 30 blue balls and 10 red balls.\n",
    "- Urn 2 contains 20 blue balls and 20 red balls.\n",
    "\n",
    "Now suppose we choose one of the urns at random and, without looking, choose a ball at random. If the ball is blue, what is the probability that it came from urn 1?\n",
    "\n"
   ]
  },
  {
   "cell_type": "markdown",
   "metadata": {},
   "source": [
    "**bayes's as cause-and-effect**\n",
    "\n",
    "To solve this problem, we can employ a cause-and-effect framework of bayes theorem. More specifically, our goal is to determine the probability that Urn 1 was the chosen urn, given that a blue ball was selected:\n",
    "\n",
    "$$P(\\text{urn 1}|\\text{blue})$$\n",
    "\n",
    "However, the information provided only gives us the reverse probabilities: the likelihood of drawing a blue ball given that we chose from Urn 1 or Urn 2:\n",
    "\n",
    "$$P(\\text{blue}|\\text{urn 1})$$\n",
    "\n",
    "$$P(\\text{blue}|\\text{urn 2})$$\n",
    "\n",
    "With these probabilities, we can employ Bayes' theorem to compute the desired probability as follows:\n",
    "\n",
    "$$P(\\text{urn 1}|\\text{blue}) =  \\frac{P(\\text{blue}|\\text{urn 1})P(\\text{urn 1})}{P(\\text{blue})}$$\n",
    "\n",
    "To calculate the total probability, $P(\\text{Blue})$, of selecting a blue ball, we employ the law of total probability. This law allows us to partition the sample space into distinct subsets, selecting from Urn 1 and Urn 2—and compute the overall probability by summing the probabilities of each case:\n",
    "\n",
    "$$P(\\text{blue}) = P(\\text{blue}|\\text{urn 1})P(\\text{urn 1}) + P(\\text{blue}|\\text{urn 2})P(\\text{urn 2})$$\n",
    "\n",
    "In this context, it's important to note that the conditions of mutually exclusive and exhaustive sets are satisfied. The events are mutually exclusive because a ball can only be selected from one urn at a time, and they are exhaustive because there are no other urns from which the ball could be selected."
   ]
  },
  {
   "cell_type": "code",
   "execution_count": 17,
   "metadata": {},
   "outputs": [
    {
     "data": {
      "text/html": [
       "<div>\n",
       "<style scoped>\n",
       "    .dataframe tbody tr th:only-of-type {\n",
       "        vertical-align: middle;\n",
       "    }\n",
       "\n",
       "    .dataframe tbody tr th {\n",
       "        vertical-align: top;\n",
       "    }\n",
       "\n",
       "    .dataframe thead th {\n",
       "        text-align: right;\n",
       "    }\n",
       "</style>\n",
       "<table border=\"1\" class=\"dataframe\">\n",
       "  <thead>\n",
       "    <tr style=\"text-align: right;\">\n",
       "      <th></th>\n",
       "      <th>urn</th>\n",
       "      <th>color</th>\n",
       "      <th>count</th>\n",
       "    </tr>\n",
       "  </thead>\n",
       "  <tbody>\n",
       "    <tr>\n",
       "      <th>0</th>\n",
       "      <td>1</td>\n",
       "      <td>0</td>\n",
       "      <td>30</td>\n",
       "    </tr>\n",
       "    <tr>\n",
       "      <th>1</th>\n",
       "      <td>1</td>\n",
       "      <td>1</td>\n",
       "      <td>10</td>\n",
       "    </tr>\n",
       "    <tr>\n",
       "      <th>2</th>\n",
       "      <td>2</td>\n",
       "      <td>0</td>\n",
       "      <td>20</td>\n",
       "    </tr>\n",
       "    <tr>\n",
       "      <th>3</th>\n",
       "      <td>2</td>\n",
       "      <td>1</td>\n",
       "      <td>20</td>\n",
       "    </tr>\n",
       "  </tbody>\n",
       "</table>\n",
       "</div>"
      ],
      "text/plain": [
       "   urn  color  count\n",
       "0    1      0     30\n",
       "1    1      1     10\n",
       "2    2      0     20\n",
       "3    2      1     20"
      ]
     },
     "execution_count": 17,
     "metadata": {},
     "output_type": "execute_result"
    }
   ],
   "source": [
    "# Blue:0 and Red:1\n",
    "data = {\n",
    "    'urn': [1, 1, 2, 2],\n",
    "    'color': [0, 1, 0, 1],\n",
    "    'count': [30, 10, 20, 20]\n",
    "}\n",
    "\n",
    "df = pd.DataFrame(data)\n",
    "df"
   ]
  },
  {
   "cell_type": "code",
   "execution_count": 18,
   "metadata": {},
   "outputs": [
    {
     "name": "stdout",
     "output_type": "stream",
     "text": [
      "P(blue|urn1) =  0.75\n",
      "P(blue|urn2) =  0.5\n",
      "P(blue) =  0.625\n",
      "P(urn1|blue) =  0.6\n"
     ]
    }
   ],
   "source": [
    "blue = df['color'] == 0\n",
    "urn1 = df['urn'] == 1\n",
    "urn2 = df['urn'] == 2\n",
    "\n",
    "# Number of blue balls in urn 1 and urn 2\n",
    "N_blue_urn1 = df[blue & urn1]['count'].sum()\n",
    "N_blue_urn2 = df[blue & urn2]['count'].sum()\n",
    "# Total number of blue balls\n",
    "N_blue = df[blue]['count'].sum() \n",
    "\n",
    "N_urn1 = df[urn1]['count'].sum()\n",
    "N_urn2 = df[urn2]['count'].sum()\n",
    "\n",
    "# Conditional probabilities of getting a blue ball given the urn\n",
    "P_blue_urn1 = N_blue_urn1/N_urn1\n",
    "P_blue_urn2 = N_blue_urn2/N_urn2\n",
    "print(\"P(blue|urn1) = \", P_blue_urn1)\n",
    "print(\"P(blue|urn2) = \", P_blue_urn2)\n",
    "\n",
    "# Prior probabilities for each urn\n",
    "P_urn1 = P_urn2 = 1/2\n",
    "\n",
    "# Total probability of getting a blue ball\n",
    "P_blue = P_blue_urn1*P_urn1 + P_blue_urn2*P_urn2\n",
    "print(\"P(blue) = \", P_blue)\n",
    "\n",
    "# Bayes' rule\n",
    "p_urn1_blue = P_blue_urn1*P_urn1 / P_blue\n",
    "print(\"P(urn1|blue) = \", p_urn1_blue)"
   ]
  },
  {
   "cell_type": "markdown",
   "metadata": {},
   "source": [
    "**Bayesian update**\n",
    "\n",
    "To solve this problem, we can employ a cause-and-effect framework of bayes theorem\n",
    "\n",
    "We can employ know the Bayesian update framework for this same problem. In this case, we apply the Bayesian update framework to get access to our belief about which urn the blue ball came from, after observing that the selected ball is indeed blue.\n",
    "\n",
    "To begin with, we have our prior beliefs, represented by the prior probabilities $P(\\text{urn 1})$ and $P(\\text{urn 2})$, which, in the absence of any additional information, are both $1/2$, reflecting an equal chance of choosing either urn.\n",
    "\n",
    "A convenient tool for doing a Bayesian update is a Bayes table:"
   ]
  },
  {
   "cell_type": "code",
   "execution_count": 19,
   "metadata": {},
   "outputs": [
    {
     "data": {
      "text/html": [
       "<div>\n",
       "<style scoped>\n",
       "    .dataframe tbody tr th:only-of-type {\n",
       "        vertical-align: middle;\n",
       "    }\n",
       "\n",
       "    .dataframe tbody tr th {\n",
       "        vertical-align: top;\n",
       "    }\n",
       "\n",
       "    .dataframe thead th {\n",
       "        text-align: right;\n",
       "    }\n",
       "</style>\n",
       "<table border=\"1\" class=\"dataframe\">\n",
       "  <thead>\n",
       "    <tr style=\"text-align: right;\">\n",
       "      <th></th>\n",
       "      <th>prior</th>\n",
       "      <th>likelihood</th>\n",
       "    </tr>\n",
       "  </thead>\n",
       "  <tbody>\n",
       "    <tr>\n",
       "      <th>Bowl 1</th>\n",
       "      <td>0.5</td>\n",
       "      <td>0.75</td>\n",
       "    </tr>\n",
       "    <tr>\n",
       "      <th>Bowl 2</th>\n",
       "      <td>0.5</td>\n",
       "      <td>0.50</td>\n",
       "    </tr>\n",
       "  </tbody>\n",
       "</table>\n",
       "</div>"
      ],
      "text/plain": [
       "        prior  likelihood\n",
       "Bowl 1    0.5        0.75\n",
       "Bowl 2    0.5        0.50"
      ]
     },
     "execution_count": 19,
     "metadata": {},
     "output_type": "execute_result"
    }
   ],
   "source": [
    "table = pd.DataFrame(index=['Bowl 1', 'Bowl 2'])\n",
    "\n",
    "#  P(urn1) and P(urn2)\n",
    "table['prior'] = 1/2, 1/2\n",
    "\n",
    "# P(urn1|blue) and P(urn2|blue)\n",
    "table['likelihood'] = 0.75, 0.5\n",
    "table"
   ]
  },
  {
   "cell_type": "markdown",
   "metadata": {},
   "source": [
    "The likelihood are not required to sum to 1, **as they are not mutually exclusive and exhaustive events**. Each likelihood is calculated independently for each urn, based on the composition of balls within that specific urn. Now we multiply the priors by the likelihoods:"
   ]
  },
  {
   "cell_type": "code",
   "execution_count": 20,
   "metadata": {},
   "outputs": [
    {
     "data": {
      "text/html": [
       "<div>\n",
       "<style scoped>\n",
       "    .dataframe tbody tr th:only-of-type {\n",
       "        vertical-align: middle;\n",
       "    }\n",
       "\n",
       "    .dataframe tbody tr th {\n",
       "        vertical-align: top;\n",
       "    }\n",
       "\n",
       "    .dataframe thead th {\n",
       "        text-align: right;\n",
       "    }\n",
       "</style>\n",
       "<table border=\"1\" class=\"dataframe\">\n",
       "  <thead>\n",
       "    <tr style=\"text-align: right;\">\n",
       "      <th></th>\n",
       "      <th>prior</th>\n",
       "      <th>likelihood</th>\n",
       "      <th>unnormalized_posterior</th>\n",
       "    </tr>\n",
       "  </thead>\n",
       "  <tbody>\n",
       "    <tr>\n",
       "      <th>Bowl 1</th>\n",
       "      <td>0.5</td>\n",
       "      <td>0.75</td>\n",
       "      <td>0.375</td>\n",
       "    </tr>\n",
       "    <tr>\n",
       "      <th>Bowl 2</th>\n",
       "      <td>0.5</td>\n",
       "      <td>0.50</td>\n",
       "      <td>0.250</td>\n",
       "    </tr>\n",
       "  </tbody>\n",
       "</table>\n",
       "</div>"
      ],
      "text/plain": [
       "        prior  likelihood  unnormalized_posterior\n",
       "Bowl 1    0.5        0.75                   0.375\n",
       "Bowl 2    0.5        0.50                   0.250"
      ]
     },
     "execution_count": 20,
     "metadata": {},
     "output_type": "execute_result"
    }
   ],
   "source": [
    "table['unnormalized_posterior'] = table['prior'] * table['likelihood']\n",
    "table"
   ]
  },
  {
   "cell_type": "markdown",
   "metadata": {},
   "source": [
    "For normalizing the posterior probabilities, we have a couple of alternatives. We could compute the total probability $P(D)$ as before, or directly sum the unnormalized posterior probabilities and divide each by this sum, ensuring a valid probability distribution for the updated beliefs. This process is called “normalization”, which is why the total probability of the data is also called the “normalizing constant”."
   ]
  },
  {
   "cell_type": "code",
   "execution_count": 21,
   "metadata": {},
   "outputs": [
    {
     "data": {
      "text/html": [
       "<div>\n",
       "<style scoped>\n",
       "    .dataframe tbody tr th:only-of-type {\n",
       "        vertical-align: middle;\n",
       "    }\n",
       "\n",
       "    .dataframe tbody tr th {\n",
       "        vertical-align: top;\n",
       "    }\n",
       "\n",
       "    .dataframe thead th {\n",
       "        text-align: right;\n",
       "    }\n",
       "</style>\n",
       "<table border=\"1\" class=\"dataframe\">\n",
       "  <thead>\n",
       "    <tr style=\"text-align: right;\">\n",
       "      <th></th>\n",
       "      <th>prior</th>\n",
       "      <th>likelihood</th>\n",
       "      <th>unnormalized_posterior</th>\n",
       "      <th>posterior</th>\n",
       "    </tr>\n",
       "  </thead>\n",
       "  <tbody>\n",
       "    <tr>\n",
       "      <th>Bowl 1</th>\n",
       "      <td>0.5</td>\n",
       "      <td>0.75</td>\n",
       "      <td>0.375</td>\n",
       "      <td>0.6</td>\n",
       "    </tr>\n",
       "    <tr>\n",
       "      <th>Bowl 2</th>\n",
       "      <td>0.5</td>\n",
       "      <td>0.50</td>\n",
       "      <td>0.250</td>\n",
       "      <td>0.4</td>\n",
       "    </tr>\n",
       "  </tbody>\n",
       "</table>\n",
       "</div>"
      ],
      "text/plain": [
       "        prior  likelihood  unnormalized_posterior  posterior\n",
       "Bowl 1    0.5        0.75                   0.375        0.6\n",
       "Bowl 2    0.5        0.50                   0.250        0.4"
      ]
     },
     "execution_count": 21,
     "metadata": {},
     "output_type": "execute_result"
    }
   ],
   "source": [
    "P_data = table['unnormalized_posterior'].sum()\n",
    "table['posterior'] = table['unnormalized_posterior'] / P_data\n",
    "table"
   ]
  },
  {
   "cell_type": "markdown",
   "metadata": {},
   "source": [
    "We find that the posterior probability for Urn 1 is 0.6. This aligns with the result derived explicitly using Bayes’s theorem. Additionally, we also find the posterior probability for Urn 2 , which is 0.4."
   ]
  },
  {
   "cell_type": "markdown",
   "metadata": {},
   "source": [
    "# References\n",
    "\n",
    "- [Downey, A. B. (2021). Think Bayes. \" O'Reilly Media, Inc.\"](https://books.google.com.br/books?hl=en&lr=&id=Vh4vEAAAQBAJ&oi=fnd&pg=PR2&dq=think+bayes&ots=HG5iCqfEg2&sig=UjHZkrmSTCog7cZTTwU0z7lyQAc&redir_esc=y#v=onepage&q=think%20bayes&f=false)\n",
    "\n",
    "- [Rozanov, Y. A. (2013). Probability theory: a concise course. Courier Corporation.](https://books.google.com.br/books?hl=en&lr=&id=9XPCAgAAQBAJ&oi=fnd&pg=PA1&dq=Probability+Theory:+A+Concise+Course&ots=ZOt4qBZLiD&sig=EbI_xUv9ph_HHrMX-HLGkgcnek4&redir_esc=y#v=onepage&q=Probability%20Theory%3A%20A%20Concise%20Course&f=false)"
   ]
  }
 ],
 "metadata": {
  "kernelspec": {
   "display_name": "Python 3",
   "language": "python",
   "name": "python3"
  },
  "language_info": {
   "codemirror_mode": {
    "name": "ipython",
    "version": 3
   },
   "file_extension": ".py",
   "mimetype": "text/x-python",
   "name": "python",
   "nbconvert_exporter": "python",
   "pygments_lexer": "ipython3",
   "version": "3.10.12"
  },
  "orig_nbformat": 4
 },
 "nbformat": 4,
 "nbformat_minor": 2
}
